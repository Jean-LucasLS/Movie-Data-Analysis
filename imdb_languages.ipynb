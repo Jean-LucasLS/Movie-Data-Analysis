{
 "cells": [
  {
   "cell_type": "code",
   "execution_count": 1,
   "metadata": {},
   "outputs": [
    {
     "data": {
      "text/plain": [
       "budget                    int64\n",
       "genres                   object\n",
       "homepage                 object\n",
       "id                        int64\n",
       "keywords                 object\n",
       "original_language        object\n",
       "original_title           object\n",
       "overview                 object\n",
       "popularity              float64\n",
       "production_companies     object\n",
       "production_countries     object\n",
       "release_date             object\n",
       "revenue                   int64\n",
       "runtime                 float64\n",
       "spoken_languages         object\n",
       "status                   object\n",
       "tagline                  object\n",
       "title                    object\n",
       "vote_average            float64\n",
       "vote_count                int64\n",
       "dtype: object"
      ]
     },
     "execution_count": 1,
     "metadata": {},
     "output_type": "execute_result"
    }
   ],
   "source": [
    "import pandas as pd\n",
    "\n",
    "PATH_MOVIES = 'Material/IMDB5000/tmdb_5000_movies.csv'\n",
    "df_movies   = pd.read_csv(PATH_MOVIES)\n",
    "df_movies.dtypes"
   ]
  },
  {
   "cell_type": "code",
   "execution_count": 2,
   "metadata": {},
   "outputs": [
    {
     "data": {
      "text/plain": [
       "array(['en', 'ja', 'fr', 'zh', 'es', 'de', 'hi', 'ru', 'ko', 'te', 'cn',\n",
       "       'it', 'nl', 'ta', 'sv', 'th', 'da', 'xx', 'hu', 'cs', 'pt', 'is',\n",
       "       'tr', 'nb', 'af', 'pl', 'he', 'ar', 'vi', 'ky', 'id', 'ro', 'fa',\n",
       "       'no', 'sl', 'ps', 'el'], dtype=object)"
      ]
     },
     "execution_count": 2,
     "metadata": {},
     "output_type": "execute_result"
    }
   ],
   "source": [
    "# Nominal categorical variable\n",
    "df_movies['original_language'].unique()\n",
    "\n",
    "# Ordinal categorical variable example: First grade < Second grade < Third grade"
   ]
  },
  {
   "cell_type": "code",
   "execution_count": 3,
   "metadata": {},
   "outputs": [
    {
     "data": {
      "text/plain": [
       "original_language\n",
       "en    4505\n",
       "fr      70\n",
       "es      32\n",
       "zh      27\n",
       "de      27\n",
       "hi      19\n",
       "ja      16\n",
       "it      14\n",
       "cn      12\n",
       "ru      11\n",
       "ko      11\n",
       "pt       9\n",
       "da       7\n",
       "sv       5\n",
       "nl       4\n",
       "fa       4\n",
       "th       3\n",
       "he       3\n",
       "ta       2\n",
       "cs       2\n",
       "ro       2\n",
       "id       2\n",
       "ar       2\n",
       "vi       1\n",
       "sl       1\n",
       "ps       1\n",
       "no       1\n",
       "ky       1\n",
       "hu       1\n",
       "pl       1\n",
       "af       1\n",
       "nb       1\n",
       "tr       1\n",
       "is       1\n",
       "xx       1\n",
       "te       1\n",
       "el       1\n",
       "Name: count, dtype: int64"
      ]
     },
     "execution_count": 3,
     "metadata": {},
     "output_type": "execute_result"
    }
   ],
   "source": [
    "df_movies['original_language'].value_counts()"
   ]
  },
  {
   "cell_type": "code",
   "execution_count": 4,
   "metadata": {},
   "outputs": [
    {
     "data": {
      "text/plain": [
       "Index(['en', 'fr', 'es', 'zh', 'de', 'hi', 'ja', 'it', 'cn', 'ru', 'ko', 'pt',\n",
       "       'da', 'sv', 'nl', 'fa', 'th', 'he', 'ta', 'cs', 'ro', 'id', 'ar', 'vi',\n",
       "       'sl', 'ps', 'no', 'ky', 'hu', 'pl', 'af', 'nb', 'tr', 'is', 'xx', 'te',\n",
       "       'el'],\n",
       "      dtype='object', name='original_language')"
      ]
     },
     "execution_count": 4,
     "metadata": {},
     "output_type": "execute_result"
    }
   ],
   "source": [
    "df_movies['original_language'].value_counts().index"
   ]
  },
  {
   "cell_type": "code",
   "execution_count": 5,
   "metadata": {},
   "outputs": [
    {
     "data": {
      "text/plain": [
       "array([4505,   70,   32,   27,   27,   19,   16,   14,   12,   11,   11,\n",
       "          9,    7,    5,    4,    4,    3,    3,    2,    2,    2,    2,\n",
       "          2,    1,    1,    1,    1,    1,    1,    1,    1,    1,    1,\n",
       "          1,    1,    1,    1], dtype=int64)"
      ]
     },
     "execution_count": 5,
     "metadata": {},
     "output_type": "execute_result"
    }
   ],
   "source": [
    "df_movies['original_language'].value_counts().values"
   ]
  },
  {
   "cell_type": "code",
   "execution_count": 6,
   "metadata": {},
   "outputs": [
    {
     "data": {
      "text/html": [
       "<div>\n",
       "<style scoped>\n",
       "    .dataframe tbody tr th:only-of-type {\n",
       "        vertical-align: middle;\n",
       "    }\n",
       "\n",
       "    .dataframe tbody tr th {\n",
       "        vertical-align: top;\n",
       "    }\n",
       "\n",
       "    .dataframe thead th {\n",
       "        text-align: right;\n",
       "    }\n",
       "</style>\n",
       "<table border=\"1\" class=\"dataframe\">\n",
       "  <thead>\n",
       "    <tr style=\"text-align: right;\">\n",
       "      <th></th>\n",
       "      <th>original_language</th>\n",
       "      <th>total</th>\n",
       "    </tr>\n",
       "  </thead>\n",
       "  <tbody>\n",
       "    <tr>\n",
       "      <th>0</th>\n",
       "      <td>en</td>\n",
       "      <td>4505</td>\n",
       "    </tr>\n",
       "    <tr>\n",
       "      <th>1</th>\n",
       "      <td>fr</td>\n",
       "      <td>70</td>\n",
       "    </tr>\n",
       "    <tr>\n",
       "      <th>2</th>\n",
       "      <td>es</td>\n",
       "      <td>32</td>\n",
       "    </tr>\n",
       "    <tr>\n",
       "      <th>3</th>\n",
       "      <td>zh</td>\n",
       "      <td>27</td>\n",
       "    </tr>\n",
       "    <tr>\n",
       "      <th>4</th>\n",
       "      <td>de</td>\n",
       "      <td>27</td>\n",
       "    </tr>\n",
       "  </tbody>\n",
       "</table>\n",
       "</div>"
      ],
      "text/plain": [
       "  original_language  total\n",
       "0                en   4505\n",
       "1                fr     70\n",
       "2                es     32\n",
       "3                zh     27\n",
       "4                de     27"
      ]
     },
     "execution_count": 6,
     "metadata": {},
     "output_type": "execute_result"
    }
   ],
   "source": [
    "lang_count         = df_movies['original_language'].value_counts().to_frame().reset_index()\n",
    "lang_count.columns = ['original_language', 'total'] # Rename\n",
    "lang_count.head()"
   ]
  },
  {
   "cell_type": "code",
   "execution_count": 7,
   "metadata": {},
   "outputs": [
    {
     "data": {
      "text/plain": [
       "<Axes: xlabel='original_language', ylabel='total'>"
      ]
     },
     "execution_count": 7,
     "metadata": {},
     "output_type": "execute_result"
    },
    {
     "data": {
      "image/png": "[encoded data removed]",
      "text/plain": [
       "<Figure size 640x480 with 1 Axes>"
      ]
     },
     "metadata": {},
     "output_type": "display_data"
    }
   ],
   "source": [
    "import seaborn as sns\n",
    "\n",
    "sns.barplot(x='original_language', y='total', data=lang_count)"
   ]
  },
  {
   "cell_type": "code",
   "execution_count": 8,
   "metadata": {},
   "outputs": [
    {
     "data": {
      "text/plain": [
       "<seaborn.axisgrid.FacetGrid at 0x20b7e163e10>"
      ]
     },
     "execution_count": 8,
     "metadata": {},
     "output_type": "execute_result"
    },
    {
     "data": {
      "image/png": "[encoded data removed]",
      "text/plain": [
       "<Figure size 500x500 with 1 Axes>"
      ]
     },
     "metadata": {},
     "output_type": "display_data"
    }
   ],
   "source": [
    "sns.catplot(x='original_language', kind='count', data=df_movies)"
   ]
  },
  {
   "cell_type": "code",
   "execution_count": 9,
   "metadata": {},
   "outputs": [
    {
     "data": {
      "text/plain": [
       "([<matplotlib.patches.Wedge at 0x20b7df7dd90>,\n",
       "  <matplotlib.patches.Wedge at 0x20b7df57dd0>,\n",
       "  <matplotlib.patches.Wedge at 0x20b7df56950>,\n",
       "  <matplotlib.patches.Wedge at 0x20b7df55d10>,\n",
       "  <matplotlib.patches.Wedge at 0x20b7e130550>,\n",
       "  <matplotlib.patches.Wedge at 0x20b7e3af110>,\n",
       "  <matplotlib.patches.Wedge at 0x20b7e17a410>,\n",
       "  <matplotlib.patches.Wedge at 0x20b7e1f4ad0>,\n",
       "  <matplotlib.patches.Wedge at 0x20b7dfaf710>,\n",
       "  <matplotlib.patches.Wedge at 0x20b7e2086d0>,\n",
       "  <matplotlib.patches.Wedge at 0x20b7e209ad0>,\n",
       "  <matplotlib.patches.Wedge at 0x20b7e20ae90>,\n",
       "  <matplotlib.patches.Wedge at 0x20b7e218250>,\n",
       "  <matplotlib.patches.Wedge at 0x20b7e219590>,\n",
       "  <matplotlib.patches.Wedge at 0x20b7e21a9d0>,\n",
       "  <matplotlib.patches.Wedge at 0x20b7e21bbd0>,\n",
       "  <matplotlib.patches.Wedge at 0x20b7e224f50>,\n",
       "  <matplotlib.patches.Wedge at 0x20b7e225fd0>,\n",
       "  <matplotlib.patches.Wedge at 0x20b7e2274d0>,\n",
       "  <matplotlib.patches.Wedge at 0x20b7e2348d0>,\n",
       "  <matplotlib.patches.Wedge at 0x20b7e235c10>,\n",
       "  <matplotlib.patches.Wedge at 0x20b7e236f10>,\n",
       "  <matplotlib.patches.Wedge at 0x20b7e2442d0>,\n",
       "  <matplotlib.patches.Wedge at 0x20b7e245750>,\n",
       "  <matplotlib.patches.Wedge at 0x20b7e246410>,\n",
       "  <matplotlib.patches.Wedge at 0x20b7e247dd0>,\n",
       "  <matplotlib.patches.Wedge at 0x20b7e251050>,\n",
       "  <matplotlib.patches.Wedge at 0x20b7e2525d0>,\n",
       "  <matplotlib.patches.Wedge at 0x20b7e253890>,\n",
       "  <matplotlib.patches.Wedge at 0x20b7e258c50>,\n",
       "  <matplotlib.patches.Wedge at 0x20b7e25a050>,\n",
       "  <matplotlib.patches.Wedge at 0x20b7e25b390>,\n",
       "  <matplotlib.patches.Wedge at 0x20b7e25bf50>,\n",
       "  <matplotlib.patches.Wedge at 0x20b7e2699d0>,\n",
       "  <matplotlib.patches.Wedge at 0x20b7e26acd0>,\n",
       "  <matplotlib.patches.Wedge at 0x20b7e26bfd0>,\n",
       "  <matplotlib.patches.Wedge at 0x20b7e275310>],\n",
       " [Text(-1.0791697536499925, 0.2130554923183512, 'en'),\n",
       "  Text(1.0355355017029462, -0.3710339940124459, 'fr'),\n",
       "  Text(1.0579676486019882, -0.3011718023181785, 'es'),\n",
       "  Text(1.0687996606645356, -0.26012936274741094, 'zh'),\n",
       "  Text(1.0773191105706255, -0.22222406260195313, 'de'),\n",
       "  Text(1.0835167978583342, -0.18971386021801853, 'hi'),\n",
       "  Text(1.0875756432724297, -0.16486121484618815, 'ja'),\n",
       "  Text(1.0906010773146022, -0.14348968659882622, 'it'),\n",
       "  Text(1.092883487371409, -0.12492270822755745, 'cn'),\n",
       "  Text(1.0946390911069936, -0.10846778425161549, 'ru'),\n",
       "  Text(1.0960865535188649, -0.09270527058984593, 'ko'),\n",
       "  Text(1.0972054830031333, -0.07835896928789601, 'pt'),\n",
       "  Text(1.097965443340663, -0.06687215586282344, 'da'),\n",
       "  Text(1.0984565010300316, -0.05825217030171998, 'sv'),\n",
       "  Text(1.0987803851616647, -0.0517847968421653, 'nl'),\n",
       "  Text(1.0990363161210686, -0.04603450713357274, 'fa'),\n",
       "  Text(1.0992355702663055, -0.04100196411527794, 'th'),\n",
       "  Text(1.0993880184234357, -0.03668766750546649, 'he'),\n",
       "  Text(1.0995021239019234, -0.033091985965784415, 'ta'),\n",
       "  Text(1.099584941078101, -0.03021518416739545, 'cs'),\n",
       "  Text(1.0996602312343366, -0.027338175536150495, 'ro'),\n",
       "  Text(1.099727993855245, -0.024460979766119193, 'id'),\n",
       "  Text(1.0997882284769684, -0.02158361655264929, 'ar'),\n",
       "  Text(1.0998284639438185, -0.01942549610642471, 'vi'),\n",
       "  Text(1.0998529348820232, -0.01798670707495573, 'sl'),\n",
       "  Text(1.0998755236058106, -0.01654788726224571, 'ps'),\n",
       "  Text(1.0998962300765243, -0.01510903913059323, 'no'),\n",
       "  Text(1.0999150542587282, -0.013670165142345335, 'ky'),\n",
       "  Text(1.0999319961202083, -0.012231267759896247, 'hu'),\n",
       "  Text(1.0999470556319713, -0.01079234944567632, 'pl'),\n",
       "  Text(1.099960232768245, -0.00935341266215563, 'af'),\n",
       "  Text(1.0999715275064792, -0.007914459871831963, 'nb'),\n",
       "  Text(1.0999809398273452, -0.006475493537234394, 'tr'),\n",
       "  Text(1.0999884697147349, -0.005036516120911278, 'is'),\n",
       "  Text(1.0999941171557621, -0.0035975300854338356, 'xx'),\n",
       "  Text(1.0999978821407626, -0.0021585378933851127, 'te'),\n",
       "  Text(1.0999997646632929, -0.0007195420073586872, 'el')])"
      ]
     },
     "execution_count": 9,
     "metadata": {},
     "output_type": "execute_result"
    },
    {
     "data": {
      "image/png": "[encoded data removed]",
      "text/plain": [
       "<Figure size 640x480 with 1 Axes>"
      ]
     },
     "metadata": {},
     "output_type": "display_data"
    }
   ],
   "source": [
    "import matplotlib.pyplot as plt\n",
    "\n",
    "plt.pie(lang_count['total'], labels=lang_count['original_language']) # Pie chart is not recommended"
   ]
  },
  {
   "cell_type": "code",
   "execution_count": 10,
   "metadata": {},
   "outputs": [
    {
     "name": "stdout",
     "output_type": "stream",
     "text": [
      "4505 298\n"
     ]
    }
   ],
   "source": [
    "lang_total    = df_movies['original_language'].value_counts()\n",
    "general_total = lang_total.sum()\n",
    "en_total      = lang_total.loc['en']\n",
    "others_total  = general_total - en_total\n",
    "print(en_total, others_total) # Now it's separated by 'english' and 'others'"
   ]
  },
  {
   "cell_type": "code",
   "execution_count": 11,
   "metadata": {},
   "outputs": [
    {
     "data": {
      "text/html": [
       "<div>\n",
       "<style scoped>\n",
       "    .dataframe tbody tr th:only-of-type {\n",
       "        vertical-align: middle;\n",
       "    }\n",
       "\n",
       "    .dataframe tbody tr th {\n",
       "        vertical-align: top;\n",
       "    }\n",
       "\n",
       "    .dataframe thead th {\n",
       "        text-align: right;\n",
       "    }\n",
       "</style>\n",
       "<table border=\"1\" class=\"dataframe\">\n",
       "  <thead>\n",
       "    <tr style=\"text-align: right;\">\n",
       "      <th></th>\n",
       "      <th>language</th>\n",
       "      <th>total</th>\n",
       "    </tr>\n",
       "  </thead>\n",
       "  <tbody>\n",
       "    <tr>\n",
       "      <th>0</th>\n",
       "      <td>en</td>\n",
       "      <td>4505</td>\n",
       "    </tr>\n",
       "    <tr>\n",
       "      <th>1</th>\n",
       "      <td>others</td>\n",
       "      <td>298</td>\n",
       "    </tr>\n",
       "  </tbody>\n",
       "</table>\n",
       "</div>"
      ],
      "text/plain": [
       "  language  total\n",
       "0       en   4505\n",
       "1   others    298"
      ]
     },
     "execution_count": 11,
     "metadata": {},
     "output_type": "execute_result"
    }
   ],
   "source": [
    "data = {\n",
    "  'language': ['en', 'others'],\n",
    "  'total': [en_total, others_total]\n",
    "}\n",
    "data = pd.DataFrame(data)\n",
    "data"
   ]
  },
  {
   "cell_type": "code",
   "execution_count": 13,
   "metadata": {},
   "outputs": [
    {
     "data": {
      "text/plain": [
       "<Axes: xlabel='language', ylabel='total'>"
      ]
     },
     "execution_count": 13,
     "metadata": {},
     "output_type": "execute_result"
    },
    {
     "data": {
      "image/png": "[encoded data removed]",
      "text/plain": [
       "<Figure size 640x480 with 1 Axes>"
      ]
     },
     "metadata": {},
     "output_type": "display_data"
    }
   ],
   "source": [
    "sns.barplot(x='language', y='total', data=data)"
   ]
  },
  {
   "cell_type": "code",
   "execution_count": 14,
   "metadata": {},
   "outputs": [
    {
     "data": {
      "text/plain": [
       "([<matplotlib.patches.Wedge at 0x20b7e580690>,\n",
       "  <matplotlib.patches.Wedge at 0x20b7e5aa110>],\n",
       " [Text(-1.0791697536499925, 0.2130554923183512, 'en'),\n",
       "  Text(1.0791697511565306, -0.2130555049482467, 'others')])"
      ]
     },
     "execution_count": 14,
     "metadata": {},
     "output_type": "execute_result"
    },
    {
     "data": {
      "image/png": "[encoded data removed]",
      "text/plain": [
       "<Figure size 640x480 with 1 Axes>"
      ]
     },
     "metadata": {},
     "output_type": "display_data"
    }
   ],
   "source": [
    "plt.pie(data['total'], labels = data['language']) # Not recommended"
   ]
  },
  {
   "cell_type": "code",
   "execution_count": 51,
   "metadata": {},
   "outputs": [
    {
     "data": {
      "text/plain": [
       "original_language\n",
       "fr    70\n",
       "es    32\n",
       "zh    27\n",
       "de    27\n",
       "hi    19\n",
       "ja    16\n",
       "it    14\n",
       "cn    12\n",
       "ko    11\n",
       "ru    11\n",
       "pt     9\n",
       "da     7\n",
       "sv     5\n",
       "fa     4\n",
       "nl     4\n",
       "he     3\n",
       "th     3\n",
       "ro     2\n",
       "id     2\n",
       "ar     2\n",
       "cs     2\n",
       "ta     2\n",
       "tr     1\n",
       "nb     1\n",
       "af     1\n",
       "pl     1\n",
       "is     1\n",
       "hu     1\n",
       "vi     1\n",
       "ky     1\n",
       "xx     1\n",
       "te     1\n",
       "no     1\n",
       "sl     1\n",
       "ps     1\n",
       "el     1\n",
       "Name: count, dtype: int64"
      ]
     },
     "execution_count": 51,
     "metadata": {},
     "output_type": "execute_result"
    }
   ],
   "source": [
    "other_lang = df_movies.query(' original_language != \"en\" ').original_language.value_counts()\n",
    "other_lang"
   ]
  },
  {
   "cell_type": "code",
   "execution_count": 42,
   "metadata": {},
   "outputs": [],
   "source": [
    "not_en_lang = df_movies.query(' original_language != \"en\" ')"
   ]
  },
  {
   "cell_type": "code",
   "execution_count": 52,
   "metadata": {},
   "outputs": [
    {
     "data": {
      "text/plain": [
       "<seaborn.axisgrid.FacetGrid at 0x20b07d13a10>"
      ]
     },
     "execution_count": 52,
     "metadata": {},
     "output_type": "execute_result"
    },
    {
     "data": {
      "image/png": "[encoded data removed]",
      "text/plain": [
       "<Figure size 1125x750 with 1 Axes>"
      ]
     },
     "metadata": {},
     "output_type": "display_data"
    }
   ],
   "source": [
    "sns.catplot(x='original_language', kind='count', data=not_en_lang, aspect=1.5, height=7.5, order=other_lang.index, palette='GnBu_d')"
   ]
  },
  {
   "cell_type": "code",
   "execution_count": 12,
   "metadata": {},
   "outputs": [
    {
     "data": {
      "text/html": [
       "<div>\n",
       "<style scoped>\n",
       "    .dataframe tbody tr th:only-of-type {\n",
       "        vertical-align: middle;\n",
       "    }\n",
       "\n",
       "    .dataframe tbody tr th {\n",
       "        vertical-align: top;\n",
       "    }\n",
       "\n",
       "    .dataframe thead th {\n",
       "        text-align: right;\n",
       "    }\n",
       "</style>\n",
       "<table border=\"1\" class=\"dataframe\">\n",
       "  <thead>\n",
       "    <tr style=\"text-align: right;\">\n",
       "      <th></th>\n",
       "      <th>budget</th>\n",
       "      <th>genres</th>\n",
       "      <th>homepage</th>\n",
       "      <th>id</th>\n",
       "      <th>keywords</th>\n",
       "      <th>original_language</th>\n",
       "      <th>original_title</th>\n",
       "      <th>overview</th>\n",
       "      <th>popularity</th>\n",
       "      <th>production_companies</th>\n",
       "      <th>production_countries</th>\n",
       "      <th>release_date</th>\n",
       "      <th>revenue</th>\n",
       "      <th>runtime</th>\n",
       "      <th>spoken_languages</th>\n",
       "      <th>status</th>\n",
       "      <th>tagline</th>\n",
       "      <th>title</th>\n",
       "      <th>vote_average</th>\n",
       "      <th>vote_count</th>\n",
       "    </tr>\n",
       "  </thead>\n",
       "  <tbody>\n",
       "    <tr>\n",
       "      <th>2915</th>\n",
       "      <td>0</td>\n",
       "      <td>[{\"id\": 12, \"name\": \"Adventure\"}, {\"id\": 80, \"...</td>\n",
       "      <td>NaN</td>\n",
       "      <td>206563</td>\n",
       "      <td>[{\"id\": 983, \"name\": \"brazilian\"}, {\"id\": 8029...</td>\n",
       "      <td>pt</td>\n",
       "      <td>Trash</td>\n",
       "      <td>Set in Brazil, three kids who make a discovery...</td>\n",
       "      <td>14.637357</td>\n",
       "      <td>[{\"name\": \"O2 Filmes\", \"id\": 345}, {\"name\": \"W...</td>\n",
       "      <td>[{\"iso_3166_1\": \"BR\", \"name\": \"Brazil\"}, {\"iso...</td>\n",
       "      <td>2014-10-09</td>\n",
       "      <td>0</td>\n",
       "      <td>112.0</td>\n",
       "      <td>[{\"iso_639_1\": \"en\", \"name\": \"English\"}, {\"iso...</td>\n",
       "      <td>Released</td>\n",
       "      <td>You never know what you might find</td>\n",
       "      <td>Trash</td>\n",
       "      <td>7.1</td>\n",
       "      <td>242</td>\n",
       "    </tr>\n",
       "    <tr>\n",
       "      <th>3417</th>\n",
       "      <td>4000000</td>\n",
       "      <td>[{\"id\": 18, \"name\": \"Drama\"}, {\"id\": 28, \"name...</td>\n",
       "      <td>http://www.tropadeeliteofilme.com.br/</td>\n",
       "      <td>7347</td>\n",
       "      <td>[{\"id\": 100, \"name\": \"slum\"}, {\"id\": 796, \"nam...</td>\n",
       "      <td>pt</td>\n",
       "      <td>Tropa de Elite</td>\n",
       "      <td>In 1997, before the visit of the pope to Rio d...</td>\n",
       "      <td>23.604936</td>\n",
       "      <td>[{\"name\": \"The Weinstein Company\", \"id\": 308},...</td>\n",
       "      <td>[{\"iso_3166_1\": \"BR\", \"name\": \"Brazil\"}]</td>\n",
       "      <td>2007-10-12</td>\n",
       "      <td>0</td>\n",
       "      <td>115.0</td>\n",
       "      <td>[{\"iso_639_1\": \"pt\", \"name\": \"Portugu\\u00eas\"}]</td>\n",
       "      <td>Released</td>\n",
       "      <td>On the streets of Rio only the elite survive</td>\n",
       "      <td>Elite Squad</td>\n",
       "      <td>7.8</td>\n",
       "      <td>504</td>\n",
       "    </tr>\n",
       "    <tr>\n",
       "      <th>3797</th>\n",
       "      <td>0</td>\n",
       "      <td>[{\"id\": 18, \"name\": \"Drama\"}]</td>\n",
       "      <td>NaN</td>\n",
       "      <td>227975</td>\n",
       "      <td>[{\"id\": 74, \"name\": \"germany\"}, {\"id\": 237, \"n...</td>\n",
       "      <td>pt</td>\n",
       "      <td>Praia do Futuro</td>\n",
       "      <td>Donato fails in his attempt to save a drowning...</td>\n",
       "      <td>2.611364</td>\n",
       "      <td>[{\"name\": \"Cora\\u00e7\\u00e3o da Selva\", \"id\": ...</td>\n",
       "      <td>[{\"iso_3166_1\": \"BR\", \"name\": \"Brazil\"}, {\"iso...</td>\n",
       "      <td>2014-05-01</td>\n",
       "      <td>0</td>\n",
       "      <td>106.0</td>\n",
       "      <td>[{\"iso_639_1\": \"de\", \"name\": \"Deutsch\"}, {\"iso...</td>\n",
       "      <td>Released</td>\n",
       "      <td>A hero split in half.</td>\n",
       "      <td>Futuro Beach</td>\n",
       "      <td>6.4</td>\n",
       "      <td>31</td>\n",
       "    </tr>\n",
       "    <tr>\n",
       "      <th>3818</th>\n",
       "      <td>0</td>\n",
       "      <td>[{\"id\": 18, \"name\": \"Drama\"}]</td>\n",
       "      <td>NaN</td>\n",
       "      <td>29262</td>\n",
       "      <td>[{\"id\": 1161, \"name\": \"brazil\"}, {\"id\": 18034,...</td>\n",
       "      <td>pt</td>\n",
       "      <td>Casa de Areia</td>\n",
       "      <td>A woman is taken along with her mother in 1910...</td>\n",
       "      <td>0.389471</td>\n",
       "      <td>[]</td>\n",
       "      <td>[{\"iso_3166_1\": \"BR\", \"name\": \"Brazil\"}]</td>\n",
       "      <td>2005-05-13</td>\n",
       "      <td>0</td>\n",
       "      <td>115.0</td>\n",
       "      <td>[{\"iso_639_1\": \"pt\", \"name\": \"Portugu\\u00eas\"}]</td>\n",
       "      <td>Released</td>\n",
       "      <td>NaN</td>\n",
       "      <td>The House of Sand</td>\n",
       "      <td>6.7</td>\n",
       "      <td>9</td>\n",
       "    </tr>\n",
       "    <tr>\n",
       "      <th>3866</th>\n",
       "      <td>3300000</td>\n",
       "      <td>[{\"id\": 18, \"name\": \"Drama\"}, {\"id\": 80, \"name...</td>\n",
       "      <td>http://cidadededeus.globo.com/</td>\n",
       "      <td>598</td>\n",
       "      <td>[{\"id\": 255, \"name\": \"male nudity\"}, {\"id\": 54...</td>\n",
       "      <td>pt</td>\n",
       "      <td>Cidade de Deus</td>\n",
       "      <td>Cidade de Deus is a shantytown that started du...</td>\n",
       "      <td>44.356711</td>\n",
       "      <td>[{\"name\": \"O2 Filmes\", \"id\": 345}, {\"name\": \"V...</td>\n",
       "      <td>[{\"iso_3166_1\": \"BR\", \"name\": \"Brazil\"}, {\"iso...</td>\n",
       "      <td>2002-02-05</td>\n",
       "      <td>30641770</td>\n",
       "      <td>130.0</td>\n",
       "      <td>[{\"iso_639_1\": \"pt\", \"name\": \"Portugu\\u00eas\"}]</td>\n",
       "      <td>Released</td>\n",
       "      <td>If you run you're dead... if you stay, you're ...</td>\n",
       "      <td>City of God</td>\n",
       "      <td>8.1</td>\n",
       "      <td>1814</td>\n",
       "    </tr>\n",
       "    <tr>\n",
       "      <th>3974</th>\n",
       "      <td>2900000</td>\n",
       "      <td>[{\"id\": 18, \"name\": \"Drama\"}]</td>\n",
       "      <td>NaN</td>\n",
       "      <td>666</td>\n",
       "      <td>[{\"id\": 983, \"name\": \"brazilian\"}, {\"id\": 1161...</td>\n",
       "      <td>pt</td>\n",
       "      <td>Central do Brasil</td>\n",
       "      <td>An emotive journey of a former school teacher,...</td>\n",
       "      <td>5.928937</td>\n",
       "      <td>[{\"name\": \"MACT Productions\", \"id\": 393}, {\"na...</td>\n",
       "      <td>[{\"iso_3166_1\": \"BR\", \"name\": \"Brazil\"}]</td>\n",
       "      <td>1998-01-16</td>\n",
       "      <td>5596708</td>\n",
       "      <td>113.0</td>\n",
       "      <td>[{\"iso_639_1\": \"pt\", \"name\": \"Portugu\\u00eas\"}]</td>\n",
       "      <td>Released</td>\n",
       "      <td>He was looking for the father he never knew. S...</td>\n",
       "      <td>Central Station</td>\n",
       "      <td>7.6</td>\n",
       "      <td>126</td>\n",
       "    </tr>\n",
       "    <tr>\n",
       "      <th>4303</th>\n",
       "      <td>0</td>\n",
       "      <td>[{\"id\": 18, \"name\": \"Drama\"}]</td>\n",
       "      <td>NaN</td>\n",
       "      <td>310569</td>\n",
       "      <td>[{\"id\": 983, \"name\": \"brazilian\"}, {\"id\": 1161...</td>\n",
       "      <td>pt</td>\n",
       "      <td>Que Horas Ela Volta?</td>\n",
       "      <td>After leaving her daughter Jessica in a small ...</td>\n",
       "      <td>9.683622</td>\n",
       "      <td>[{\"name\": \"Gullane Entretenimento S.A.\", \"id\":...</td>\n",
       "      <td>[{\"iso_3166_1\": \"BR\", \"name\": \"Brazil\"}]</td>\n",
       "      <td>2015-02-08</td>\n",
       "      <td>0</td>\n",
       "      <td>110.0</td>\n",
       "      <td>[{\"iso_639_1\": \"pt\", \"name\": \"Portugu\\u00eas\"}]</td>\n",
       "      <td>Released</td>\n",
       "      <td>NaN</td>\n",
       "      <td>The Second Mother</td>\n",
       "      <td>7.8</td>\n",
       "      <td>165</td>\n",
       "    </tr>\n",
       "    <tr>\n",
       "      <th>4684</th>\n",
       "      <td>0</td>\n",
       "      <td>[{\"id\": 27, \"name\": \"Horror\"}]</td>\n",
       "      <td>NaN</td>\n",
       "      <td>402515</td>\n",
       "      <td>[{\"id\": 321, \"name\": \"terror\"}, {\"id\": 8087, \"...</td>\n",
       "      <td>pt</td>\n",
       "      <td>Solitude</td>\n",
       "      <td>After finding an old storage locker filled wit...</td>\n",
       "      <td>0.018716</td>\n",
       "      <td>[{\"name\": \"Gravitas Ventures\", \"id\": 44632}]</td>\n",
       "      <td>[{\"iso_3166_1\": \"US\", \"name\": \"United States o...</td>\n",
       "      <td>2014-10-21</td>\n",
       "      <td>0</td>\n",
       "      <td>89.0</td>\n",
       "      <td>[{\"iso_639_1\": \"en\", \"name\": \"English\"}]</td>\n",
       "      <td>Released</td>\n",
       "      <td>NaN</td>\n",
       "      <td>American Beast</td>\n",
       "      <td>0.0</td>\n",
       "      <td>0</td>\n",
       "    </tr>\n",
       "    <tr>\n",
       "      <th>4751</th>\n",
       "      <td>0</td>\n",
       "      <td>[{\"id\": 18, \"name\": \"Drama\"}, {\"id\": 10749, \"n...</td>\n",
       "      <td>NaN</td>\n",
       "      <td>42109</td>\n",
       "      <td>[]</td>\n",
       "      <td>pt</td>\n",
       "      <td>Gabriela, Cravo e Canela</td>\n",
       "      <td>In 1925, Gabriela becomes cook, mistress, and ...</td>\n",
       "      <td>0.557602</td>\n",
       "      <td>[{\"name\": \"United Artists\", \"id\": 60}, {\"name\"...</td>\n",
       "      <td>[{\"iso_3166_1\": \"BR\", \"name\": \"Brazil\"}]</td>\n",
       "      <td>1983-03-24</td>\n",
       "      <td>0</td>\n",
       "      <td>99.0</td>\n",
       "      <td>[{\"iso_639_1\": \"pt\", \"name\": \"Portugu\\u00eas\"}]</td>\n",
       "      <td>Released</td>\n",
       "      <td>NaN</td>\n",
       "      <td>Gabriela</td>\n",
       "      <td>6.0</td>\n",
       "      <td>2</td>\n",
       "    </tr>\n",
       "  </tbody>\n",
       "</table>\n",
       "</div>"
      ],
      "text/plain": [
       "       budget                                             genres  \\\n",
       "2915        0  [{\"id\": 12, \"name\": \"Adventure\"}, {\"id\": 80, \"...   \n",
       "3417  4000000  [{\"id\": 18, \"name\": \"Drama\"}, {\"id\": 28, \"name...   \n",
       "3797        0                      [{\"id\": 18, \"name\": \"Drama\"}]   \n",
       "3818        0                      [{\"id\": 18, \"name\": \"Drama\"}]   \n",
       "3866  3300000  [{\"id\": 18, \"name\": \"Drama\"}, {\"id\": 80, \"name...   \n",
       "3974  2900000                      [{\"id\": 18, \"name\": \"Drama\"}]   \n",
       "4303        0                      [{\"id\": 18, \"name\": \"Drama\"}]   \n",
       "4684        0                     [{\"id\": 27, \"name\": \"Horror\"}]   \n",
       "4751        0  [{\"id\": 18, \"name\": \"Drama\"}, {\"id\": 10749, \"n...   \n",
       "\n",
       "                                   homepage      id  \\\n",
       "2915                                    NaN  206563   \n",
       "3417  http://www.tropadeeliteofilme.com.br/    7347   \n",
       "3797                                    NaN  227975   \n",
       "3818                                    NaN   29262   \n",
       "3866         http://cidadededeus.globo.com/     598   \n",
       "3974                                    NaN     666   \n",
       "4303                                    NaN  310569   \n",
       "4684                                    NaN  402515   \n",
       "4751                                    NaN   42109   \n",
       "\n",
       "                                               keywords original_language  \\\n",
       "2915  [{\"id\": 983, \"name\": \"brazilian\"}, {\"id\": 8029...                pt   \n",
       "3417  [{\"id\": 100, \"name\": \"slum\"}, {\"id\": 796, \"nam...                pt   \n",
       "3797  [{\"id\": 74, \"name\": \"germany\"}, {\"id\": 237, \"n...                pt   \n",
       "3818  [{\"id\": 1161, \"name\": \"brazil\"}, {\"id\": 18034,...                pt   \n",
       "3866  [{\"id\": 255, \"name\": \"male nudity\"}, {\"id\": 54...                pt   \n",
       "3974  [{\"id\": 983, \"name\": \"brazilian\"}, {\"id\": 1161...                pt   \n",
       "4303  [{\"id\": 983, \"name\": \"brazilian\"}, {\"id\": 1161...                pt   \n",
       "4684  [{\"id\": 321, \"name\": \"terror\"}, {\"id\": 8087, \"...                pt   \n",
       "4751                                                 []                pt   \n",
       "\n",
       "                original_title  \\\n",
       "2915                     Trash   \n",
       "3417            Tropa de Elite   \n",
       "3797           Praia do Futuro   \n",
       "3818             Casa de Areia   \n",
       "3866            Cidade de Deus   \n",
       "3974         Central do Brasil   \n",
       "4303      Que Horas Ela Volta?   \n",
       "4684                  Solitude   \n",
       "4751  Gabriela, Cravo e Canela   \n",
       "\n",
       "                                               overview  popularity  \\\n",
       "2915  Set in Brazil, three kids who make a discovery...   14.637357   \n",
       "3417  In 1997, before the visit of the pope to Rio d...   23.604936   \n",
       "3797  Donato fails in his attempt to save a drowning...    2.611364   \n",
       "3818  A woman is taken along with her mother in 1910...    0.389471   \n",
       "3866  Cidade de Deus is a shantytown that started du...   44.356711   \n",
       "3974  An emotive journey of a former school teacher,...    5.928937   \n",
       "4303  After leaving her daughter Jessica in a small ...    9.683622   \n",
       "4684  After finding an old storage locker filled wit...    0.018716   \n",
       "4751  In 1925, Gabriela becomes cook, mistress, and ...    0.557602   \n",
       "\n",
       "                                   production_companies  \\\n",
       "2915  [{\"name\": \"O2 Filmes\", \"id\": 345}, {\"name\": \"W...   \n",
       "3417  [{\"name\": \"The Weinstein Company\", \"id\": 308},...   \n",
       "3797  [{\"name\": \"Cora\\u00e7\\u00e3o da Selva\", \"id\": ...   \n",
       "3818                                                 []   \n",
       "3866  [{\"name\": \"O2 Filmes\", \"id\": 345}, {\"name\": \"V...   \n",
       "3974  [{\"name\": \"MACT Productions\", \"id\": 393}, {\"na...   \n",
       "4303  [{\"name\": \"Gullane Entretenimento S.A.\", \"id\":...   \n",
       "4684       [{\"name\": \"Gravitas Ventures\", \"id\": 44632}]   \n",
       "4751  [{\"name\": \"United Artists\", \"id\": 60}, {\"name\"...   \n",
       "\n",
       "                                   production_countries release_date  \\\n",
       "2915  [{\"iso_3166_1\": \"BR\", \"name\": \"Brazil\"}, {\"iso...   2014-10-09   \n",
       "3417           [{\"iso_3166_1\": \"BR\", \"name\": \"Brazil\"}]   2007-10-12   \n",
       "3797  [{\"iso_3166_1\": \"BR\", \"name\": \"Brazil\"}, {\"iso...   2014-05-01   \n",
       "3818           [{\"iso_3166_1\": \"BR\", \"name\": \"Brazil\"}]   2005-05-13   \n",
       "3866  [{\"iso_3166_1\": \"BR\", \"name\": \"Brazil\"}, {\"iso...   2002-02-05   \n",
       "3974           [{\"iso_3166_1\": \"BR\", \"name\": \"Brazil\"}]   1998-01-16   \n",
       "4303           [{\"iso_3166_1\": \"BR\", \"name\": \"Brazil\"}]   2015-02-08   \n",
       "4684  [{\"iso_3166_1\": \"US\", \"name\": \"United States o...   2014-10-21   \n",
       "4751           [{\"iso_3166_1\": \"BR\", \"name\": \"Brazil\"}]   1983-03-24   \n",
       "\n",
       "       revenue  runtime                                   spoken_languages  \\\n",
       "2915         0    112.0  [{\"iso_639_1\": \"en\", \"name\": \"English\"}, {\"iso...   \n",
       "3417         0    115.0    [{\"iso_639_1\": \"pt\", \"name\": \"Portugu\\u00eas\"}]   \n",
       "3797         0    106.0  [{\"iso_639_1\": \"de\", \"name\": \"Deutsch\"}, {\"iso...   \n",
       "3818         0    115.0    [{\"iso_639_1\": \"pt\", \"name\": \"Portugu\\u00eas\"}]   \n",
       "3866  30641770    130.0    [{\"iso_639_1\": \"pt\", \"name\": \"Portugu\\u00eas\"}]   \n",
       "3974   5596708    113.0    [{\"iso_639_1\": \"pt\", \"name\": \"Portugu\\u00eas\"}]   \n",
       "4303         0    110.0    [{\"iso_639_1\": \"pt\", \"name\": \"Portugu\\u00eas\"}]   \n",
       "4684         0     89.0           [{\"iso_639_1\": \"en\", \"name\": \"English\"}]   \n",
       "4751         0     99.0    [{\"iso_639_1\": \"pt\", \"name\": \"Portugu\\u00eas\"}]   \n",
       "\n",
       "        status                                            tagline  \\\n",
       "2915  Released                 You never know what you might find   \n",
       "3417  Released       On the streets of Rio only the elite survive   \n",
       "3797  Released                              A hero split in half.   \n",
       "3818  Released                                                NaN   \n",
       "3866  Released  If you run you're dead... if you stay, you're ...   \n",
       "3974  Released  He was looking for the father he never knew. S...   \n",
       "4303  Released                                                NaN   \n",
       "4684  Released                                                NaN   \n",
       "4751  Released                                                NaN   \n",
       "\n",
       "                  title  vote_average  vote_count  \n",
       "2915              Trash           7.1         242  \n",
       "3417        Elite Squad           7.8         504  \n",
       "3797       Futuro Beach           6.4          31  \n",
       "3818  The House of Sand           6.7           9  \n",
       "3866        City of God           8.1        1814  \n",
       "3974    Central Station           7.6         126  \n",
       "4303  The Second Mother           7.8         165  \n",
       "4684     American Beast           0.0           0  \n",
       "4751           Gabriela           6.0           2  "
      ]
     },
     "execution_count": 12,
     "metadata": {},
     "output_type": "execute_result"
    }
   ],
   "source": [
    "# Finding all movies with original language 'pt'\n",
    "df_movies.query('original_language ==  \"pt\"')"
   ]
  }
 ],
 "metadata": {
  "kernelspec": {
   "display_name": "Python 3",
   "language": "python",
   "name": "python3"
  },
  "language_info": {
   "codemirror_mode": {
    "name": "ipython",
    "version": 3
   },
   "file_extension": ".py",
   "mimetype": "text/x-python",
   "name": "python",
   "nbconvert_exporter": "python",
   "pygments_lexer": "ipython3",
   "version": "3.11.5"
  }
 },
 "nbformat": 4,
 "nbformat_minor": 2
}
